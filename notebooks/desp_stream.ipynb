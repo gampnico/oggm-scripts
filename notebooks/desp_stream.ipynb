{
 "cells": [
  {
   "cell_type": "markdown",
   "metadata": {},
   "source": [
    "# Streaming ERA5 data via DESP"
   ]
  },
  {
   "cell_type": "code",
   "execution_count": 1,
   "metadata": {},
   "outputs": [],
   "source": [
    "import matplotlib.pyplot as plt\n",
    "import xarray as xr\n",
    "from oggm import (\n",
    "    cfg,\n",
    "    utils,\n",
    "    workflow,\n",
    "    \n",
    ")\n",
    "from dtcg.datacube import desp_era5\n",
    "\n",
    "# plt.rcParams[\"image.cmap\"] = \"Set1\"\n",
    "plt.rcParams[\"axes.prop_cycle\"] = plt.cycler(color=plt.cm.Set1.colors)"
   ]
  },
  {
   "cell_type": "code",
   "execution_count": 2,
   "metadata": {},
   "outputs": [
    {
     "name": "stderr",
     "output_type": "stream",
     "text": [
      "2025-09-10 14:12:19: oggm.cfg: Reading default parameters from the OGGM `params.cfg` configuration file.\n",
      "2025-09-10 14:12:19: oggm.cfg: Multiprocessing switched OFF according to the parameter file.\n",
      "2025-09-10 14:12:19: oggm.cfg: Multiprocessing: using all available processors (N=22)\n",
      "2025-09-10 14:12:19: oggm.cfg: PARAMS['store_model_geometry'] changed from `False` to `True`.\n",
      "2025-09-10 14:12:19: oggm.cfg: Multiprocessing switched ON after user settings.\n"
     ]
    }
   ],
   "source": [
    "cfg.initialize(logging_level=\"WARNING\")\n",
    "cfg.PATHS[\"working_dir\"] = utils.gettempdir(dirname=\"OGGM-shop\")\n",
    "cfg.PARAMS[\"border\"] = 80\n",
    "cfg.PARAMS[\"store_model_geometry\"] = True\n",
    "cfg.PARAMS[\"use_multiprocessing\"] = True\n",
    "rgi_ids = [\"RGI60-11.00897\", \"RGI60-11.00001\"]\n",
    "base_url = (\n",
    "    \"https://cluster.klima.uni-bremen.de/~oggm/gdirs/oggm_v1.6/\"\n",
    "    \"L3-L5_files/2023.3/elev_bands/W5E5\"\n",
    ")\n",
    "from_prepro_level = 4\n",
    "prepro_border = 80\n",
    "prepro_rgi_version = 62\n",
    "\n",
    "def check_file_exists(gdirs: list, basename: str = \"climate_historical\"):\n",
    "    for gdir in gdirs:\n",
    "        assert basename in cfg.BASENAMES\n",
    "        assert gdir.has_file(basename)"
   ]
  },
  {
   "cell_type": "code",
   "execution_count": 3,
   "metadata": {},
   "outputs": [
    {
     "name": "stderr",
     "output_type": "stream",
     "text": [
      "2025-09-10 14:12:19: oggm.workflow: init_glacier_directories from prepro level 4 on 2 glaciers.\n",
      "2025-09-10 14:12:19: oggm.workflow: Execute entity tasks [gdir_from_prepro] on 2 glaciers\n"
     ]
    }
   ],
   "source": [
    "gdirs = workflow.init_glacier_directories(\n",
    "    rgi_ids,\n",
    "    from_prepro_level=from_prepro_level,\n",
    "    prepro_base_url=base_url,\n",
    "    prepro_rgi_version=prepro_rgi_version,\n",
    "    prepro_border=prepro_border,\n",
    ")\n",
    "check_file_exists(gdirs=gdirs)"
   ]
  },
  {
   "cell_type": "markdown",
   "metadata": {},
   "source": [
    "Let's see how many years of ERA5 data are available through the OGGM cluster:"
   ]
  },
  {
   "cell_type": "code",
   "execution_count": 4,
   "metadata": {},
   "outputs": [
    {
     "name": "stdout",
     "output_type": "stream",
     "text": [
      "Years of data: 1901-2019\n"
     ]
    },
    {
     "name": "stderr",
     "output_type": "stream",
     "text": [
      "sh: 1: getfattr: not found\n"
     ]
    }
   ],
   "source": [
    "gdir= gdirs[0]\n",
    "with xr.open_dataset(gdir.get_filepath(\"climate_historical\")) as ds:\n",
    "    ds = ds.load()\n",
    "    print(f\"Years of data: {ds.yr_0}-{ds.yr_1}\")"
   ]
  },
  {
   "cell_type": "markdown",
   "metadata": {},
   "source": [
    "We can stream data from DESP directly via DTCG:"
   ]
  },
  {
   "cell_type": "code",
   "execution_count": 5,
   "metadata": {},
   "outputs": [
    {
     "name": "stdout",
     "output_type": "stream",
     "text": [
      "Years of data: 2020-2024\n"
     ]
    },
    {
     "name": "stderr",
     "output_type": "stream",
     "text": [
      "sh: 1: getfattr: not found\n"
     ]
    }
   ],
   "source": [
    "gdir = gdirs[0]\n",
    "desp_cube = desp_era5.DatacubeDespEra5()\n",
    "desp_cube.process_desp_era5_data(\n",
    "    gdir,\n",
    "    settings_filesuffix=\"\",\n",
    "    dataset=\"ERA5_DESP\",\n",
    "    y0=2020,\n",
    "    y1=2024,\n",
    "    output_filesuffix=None,\n",
    ")\n",
    "\n",
    "with xr.open_dataset(gdir.get_filepath(\"climate_historical\")) as ds:\n",
    "    ds = ds.load()\n",
    "    print(f\"Years of data: {ds.yr_0}-{ds.yr_1}\")"
   ]
  },
  {
   "cell_type": "markdown",
   "metadata": {},
   "source": [
    "Or use OGGM's workflow functions:"
   ]
  },
  {
   "cell_type": "code",
   "execution_count": 6,
   "metadata": {},
   "outputs": [
    {
     "name": "stderr",
     "output_type": "stream",
     "text": [
      "2025-09-10 14:12:23: oggm.workflow: Execute entity tasks [process_desp_era5_data] on 1 glaciers\n"
     ]
    }
   ],
   "source": [
    "ds_merged = workflow.execute_entity_task(\n",
    "    gdirs=[gdirs[1]], task=desp_cube.process_desp_era5_data, y0=2020, y1=2024\n",
    ")"
   ]
  },
  {
   "cell_type": "code",
   "execution_count": 7,
   "metadata": {},
   "outputs": [
    {
     "name": "stdout",
     "output_type": "stream",
     "text": [
      "Years of data: 2020-2024\n"
     ]
    },
    {
     "name": "stderr",
     "output_type": "stream",
     "text": [
      "sh: 1: getfattr: not found\n"
     ]
    }
   ],
   "source": [
    "gdir= gdirs[1]\n",
    "with xr.open_dataset(gdir.get_filepath(\"climate_historical\")) as ds:\n",
    "    ds = ds.load()\n",
    "print(f\"Years of data: {ds.yr_0}-{ds.yr_1}\")"
   ]
  }
 ],
 "metadata": {
  "kernelspec": {
   "display_name": "dtcg_oggm_lps",
   "language": "python",
   "name": "python3"
  },
  "language_info": {
   "codemirror_mode": {
    "name": "ipython",
    "version": 3
   },
   "file_extension": ".py",
   "mimetype": "text/x-python",
   "name": "python",
   "nbconvert_exporter": "python",
   "pygments_lexer": "ipython3",
   "version": "3.12.11"
  }
 },
 "nbformat": 4,
 "nbformat_minor": 2
}
